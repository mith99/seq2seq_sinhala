{
 "cells": [
  {
   "cell_type": "code",
   "execution_count": 46,
   "id": "58d3bcdd",
   "metadata": {},
   "outputs": [],
   "source": [
    "import tensorflow as tf\n",
    "device_name = tf.test.gpu_device_name()\n",
    "# if device_name != '/device:GPU:0':\n",
    "#   raise SystemError('GPU device not found')\n",
    "# print('Found GPU at: {}'.format(device_name))\n",
    "# print(tf.test.is_built_with_cuda())\n",
    "import numpy as np\n",
    "from tensorflow import keras\n",
    "import random\n",
    "import string\n",
    "import pandas as pd\n",
    "import re\n",
    "from tqdm import tqdm\n",
    "import pickle\n",
    "\n",
    "# import wget\n"
   ]
  },
  {
   "cell_type": "code",
   "execution_count": 62,
   "id": "1dd5d292",
   "metadata": {},
   "outputs": [],
   "source": [
    "# !curl -O http://www.manythings.org/anki/fra-eng.zip\n",
    "# with zipfile.ZipFile(\"fra-eng.zip\",\"r\") as zip_ref:\n",
    "#     zip_ref.extractall(\"targetdir\")\n",
    "\n",
    "txt = open(\"D:/Mithma/SLIIT/Y4/CDAP/word_frequency_list_2M.si\", \"r\", encoding=\"utf8\")\n",
    "dataset= txt.read()\n",
    "\n",
    "\n",
    "# url='https://drive.google.com/file/d/1SeqwPPUFKL8t72j5VkhNWTvY84cnaAgX/view?usp=sharing'\n",
    "# url='https://drive.google.com/uc?id=' + url.split('/')[-2]\n",
    "# dataset = pd.read_csv(url)\n",
    "# print(dataset)\n",
    "\n",
    "\n"
   ]
  },
  {
   "cell_type": "code",
   "execution_count": 64,
   "id": "9ef7157e",
   "metadata": {},
   "outputs": [
    {
     "name": "stdout",
     "output_type": "stream",
     "text": [
      "             මේ DET 1067105\n",
      "0              ඒ ABB 946049\n",
      "1            ඇති NIP 567890\n",
      "2              සහ CC 518043\n",
      "3              හා CC 511663\n",
      "4             එක NUM 491217\n",
      "...                     ...\n",
      "2138015       අනිනවාය VNF 1\n",
      "2138016    නොදැමුවෙමි VFM 1\n",
      "2138017    කියවහල්ලකො NNP 1\n",
      "2138018  ගෑනුලමයෙකුගේ NNC 1\n",
      "2138019       පල්ක්කු NNC 1\n",
      "\n",
      "[2138020 rows x 1 columns]\n"
     ]
    }
   ],
   "source": [
    "#Dataset preview\n",
    "print(dataset)\n"
   ]
  },
  {
   "cell_type": "code",
   "execution_count": 66,
   "id": "0775107f",
   "metadata": {},
   "outputs": [
    {
     "data": {
      "text/plain": [
       "2138020"
      ]
     },
     "execution_count": 66,
     "metadata": {},
     "output_type": "execute_result"
    }
   ],
   "source": [
    "len(dataset) #length of the dataset"
   ]
  },
  {
   "cell_type": "code",
   "execution_count": 67,
   "id": "04a75ac5",
   "metadata": {},
   "outputs": [
    {
     "name": "stdout",
     "output_type": "stream",
     "text": [
      "<class 'pandas.core.frame.DataFrame'>\n",
      "RangeIndex: 2138020 entries, 0 to 2138019\n",
      "Data columns (total 1 columns):\n",
      " #   Column          Dtype \n",
      "---  ------          ----- \n",
      " 0   මේ DET 1067105  object\n",
      "dtypes: object(1)\n",
      "memory usage: 16.3+ MB\n"
     ]
    }
   ],
   "source": [
    "dataset.info() #dataset information"
   ]
  },
  {
   "cell_type": "code",
   "execution_count": 48,
   "id": "c6b2d501",
   "metadata": {},
   "outputs": [
    {
     "name": "stdout",
     "output_type": "stream",
     "text": [
      "D:/Mithma/SLIIT/Y4/CDAP/word_frequency_list_2M.si\n"
     ]
    }
   ],
   "source": [
    "num_samples = 1000000  # Number of samples to train on.\n",
    "data_path = \"D:/Mithma/SLIIT/Y4/CDAP/word_frequency_list_2M.si\"  # Path to the data txt file on disk.\n",
    "print(data_path)"
   ]
  },
  {
   "cell_type": "code",
   "execution_count": 49,
   "id": "d890d006",
   "metadata": {},
   "outputs": [],
   "source": [
    "batch_size = 64  # Batch size for training.\n",
    "epochs = 100  # Number of epochs to train for.\n",
    "latent_dim = 128  # Latent dimensionality of the encoding space.\n",
    "output_dim = 64\n"
   ]
  },
  {
   "cell_type": "code",
   "execution_count": 50,
   "id": "06601cb8",
   "metadata": {},
   "outputs": [],
   "source": [
    "# unique_list = []\n",
    "\n",
    "# c1 = []\n",
    "# with open('D:/Mithma/SLIIT/Y4/CDAP/word_frequency_list_2M.si', 'r', encoding=\"utf-8\") as wordList:\n",
    "#     question_list = []\n",
    "#     answer_list = []\n",
    "#     for line in wordList.readlines():\n",
    "#         question = line.split(' ')\n",
    "#         question_list.append(question)\n",
    "        "
   ]
  },
  {
   "cell_type": "code",
   "execution_count": 51,
   "id": "a10bdd9c",
   "metadata": {},
   "outputs": [
    {
     "name": "stdout",
     "output_type": "stream",
     "text": [
      "Number of samples: 6000\n",
      "Number of unique input tokens: 69\n",
      "Number of unique output tokens: 60\n",
      "Max sequence length for inputs: 15\n",
      "Max sequence length for outputs: 16\n"
     ]
    }
   ],
   "source": [
    "# Vectorize the data.\n",
    "input_texts = []\n",
    "target_texts = []\n",
    "input_ =[]\n",
    "tar_ =[]\n",
    "input_characters = set()\n",
    "target_characters = set()\n",
    "with open(data_path, \"r\", encoding=\"utf-8\") as f:\n",
    "    lines = f.read().split(\"\\n\")\n",
    "\n",
    "token_list=[ \n",
    "'අ', 'ආ', 'ඇ', 'ඈ', 'ඉ', 'ඊ', 'උ', 'ඌ', 'එ', 'ඒ', 'ඓ', 'ඔ', 'ඕ', 'ඖ', 'ඍ',\n",
    "'ක', 'කා', 'කැ', 'කෑ', 'කි', 'කී', 'කු', 'කූ', 'කෙ', 'කේ', 'කෛ', 'කො', 'කෝ', 'කෞ', \n",
    "'ඛ', 'ඛා', 'ඛැ' , 'ඛෑ', 'ඛි' , 'ඛී' , 'ඛු' , 'ඛූ', 'ඛෙ', 'ඛේ', 'ඛෛ', 'ඛො', 'ඛෝ', 'ඛෞ',\n",
    "'ග', 'ගා', 'ගැ', 'ගෑ','ගි', 'ගී', 'ගු' , 'ගූ', 'ගෙ', 'ගේ', 'ගෛ', 'ගො' ,'ගෝ' ,'ගෞ',\n",
    "'ඝ', 'ඝා', 'ඝැ', 'ඝෑ', 'ඝි', 'ඝී', 'ඝු', 'ඝූ', 'ඝෙ', 'ඝේ', 'ඝෛ', 'ඝො', 'ඝෝ', 'ඝෞ',\n",
    "'ඞ', 'ඞා', 'ඞැ', 'ඞෑ','ඞි','ඞී', 'ඞු','ඞූ', 'ඞෙ', 'ඞේ', 'ඞෛ', 'ඞො','ඞෝ','ඞෞ',\n",
    "'ඟ', 'ඟා', 'ඟැ', 'ඟෑ', 'ඟි', 'ඟී', 'ඟු', 'ඟූ', 'ඟෙ','ඟේ','ඟෛ','ඟො','ඟෝ','ඟෞ',\n",
    "'ච', 'චා', 'චැ', 'චෑ', 'චි', 'චී', 'චු', 'චූ', 'චෙ','චේ','චෛ','චො','චෝ','චෞ',\n",
    "'ඡ', 'ඡා', 'ඡැ', 'ඡෑ', 'ඡි', 'ඡී', 'ඡු', 'ඡූ', 'ඡෙ','ඡේ','ඡෛ','ඡො','ඡෝ','ඡෞ',\n",
    "'ජ', 'ජා', 'ජැ', 'ජෑ', 'ජි', 'ජී', 'ජු', 'ජූ', 'ජෙ','ජේ','ජෛ','ජො','ජෝ','ජෞ',\n",
    "'ඣ', 'ඣා', 'ඣැ', 'ඣෑ', 'ඣි', 'ඣී', 'ඣු', 'ඣූ', 'ඣෙ','ඣේ','ඣෛ','ඣො','ඣෝ','ඣෞ',\n",
    "'ඤ', 'ඤා', 'ඤැ', 'ඤෑ', 'ඤි', 'ඤී', 'ඤු', 'ඤූ', 'ඤෙ','ඤේ','ඤෛ','ඤො','ඤෝ','ඤෞ',\n",
    "'ඥ', 'ඥා', 'ඥැ', 'ඥෑ', 'ඥි', 'ඥී', 'ඥු', 'ඥූ', 'ඥෙ','ඥේ','ඥෛ','ඥො','ඥෝ','ඥෞ',\n",
    "    'ඦ', 'ඦා', 'ඦැ', 'ඦෑ', 'ඦි', 'ඦී', 'ඦු', 'ඦූූ', 'ඦෙ','ඦේ','ඦෛ','ඦො','ඦෝ','ඦෞ',\n",
    "    'ට', 'ටා', 'ටැ', 'ටෑ', 'ටි', 'ටී', 'ටු', 'ටූ', 'ටෙ','ටේ','ටෛ','ටො','ටෝ','ටෞ',\n",
    "    'ඨ', 'ඨා', 'ඨැ', 'ඨෑ', 'ඨි', 'ඨී', 'ඨු', 'ඨූ', 'ඨෙ','ඨේ','ඨෛ','ඨො','ඨෝ','ඨෞ',\n",
    "    'ඩ', 'ඩා', 'ඩැ', 'ඩෑ', 'ඩි', 'ඩී', 'ඩු', 'ඩූ', 'ඩෙ','ඩේ','ඩෛ','ඩො','ඩෝ','ඩෞ',\n",
    "    'ඪ', 'ඪා', 'ඪැ', 'ඪෑ', 'ඪි', 'ඪී', 'ඪු', 'ඪූ', 'ඪෙ','ඪේ','ඪෛ','ඪො','ඪෝ','ඪෞ',\n",
    "  'ණ', 'ණා', 'ණැ', 'ණෑ', 'ණි', 'ණී', 'ණු', 'ණූ', 'ණෙ','ණේ','ණෛ','ණො','ණෝ','ණෞ',\n",
    "    'ඬ', 'ඬා', 'ඬැ', 'ඬෑ', 'ඬි', 'ඬී', 'ඬු', 'ඬූ', 'ඬෙ','ඬේ','ඬෛ','ඬො','ඬෝ','ඬෞ',\n",
    "      'ත', 'තා', 'තැ', 'තෑ', 'ති', 'තී', 'තු', 'තූ', 'තෙ','තේ','තෛ','තො','තෝ','තෞ',\n",
    "        'ථ​', 'ථා', 'ථැ', 'ථෑ', 'ථි', 'ථී', 'ථු', 'ථූ', 'ථෙ','ථේ','ථෛ','ථො','ථෝ','ථෞ',\n",
    "          'ද​​', 'දා​', 'දැ', 'දෑ', 'දි', 'දී', 'දු', 'දූ', 'දෙ','දේ','දෛ','දො','දෝ','දෞ',\n",
    "            'ධ​​', 'ධා​', 'ධැ', 'ධෑ', 'ධි', 'ධී', 'ධු', 'ධූ', 'ධෙ','ධේ','ධෛ','ධො','ධෝ','ධෞ',\n",
    "              'න​​​', 'නා', 'නැ', 'නෑ', 'නි', 'නී', 'නු', 'නූ', 'නෙ','නේ','නෛ','නො','නෝ','නෞ',\n",
    "                'ඳ​​​', 'ඳා', 'ඳැ', 'ඳෑ', 'ඳි', 'ඳී', 'ඳු', 'ඳූ', 'ඳෙ','ඳේ','ඳෛ','ඳො','ඳෝ','ඳෞ',\n",
    "                  'ප​​​​', 'පා', 'පැ', 'පෑ', 'පි', 'පී', 'පු', 'පූ', 'පෙ','පේ','පෛ','පො','පෝ','පෞ',\n",
    " 'ඵ​​​​', 'ඵා', 'ඵැ', 'ඵෑ', 'ඵි', 'ඵී', 'ඵු', 'ඵූ', 'ඵෙ','ඵේ','ඵෛ','ඵො','ඵෝ','ඵෞ',\n",
    "   'බ​​​​', 'බා', 'බැ', 'බෑ', 'බි', 'බී', 'බු', 'බූ', 'බෙ','බේ','බෛ','බො','බෝ','බෞ',\n",
    "     'භ​​​​', 'භා', 'භැ', 'භෑ', 'භි', 'භී', 'භු', 'භූ', 'භෙ','භේ','භෛ','භො','භෝ','භෞ',\n",
    "  'ම​​​​', 'මා', 'මැ', 'මෑ', 'මි', 'මී', 'මු', 'මූ', 'මෙ','මේ','මෛ','මො','මෝ','මෞ', \n",
    " 'ඹ​​​​', 'ඹා', 'ඹැ', 'ඹෑ', 'ඹි', 'ඹී', 'ඹු', 'ඹූ', 'ඹෙ','ඹේ','ඹෛ','ඹො','ඹෝ','ඹෞ',\n",
    "  'ය​​​​', 'යා', 'යැ', 'යෑ', 'යි', 'යී', 'යු', 'යූ', 'යෙ','යේ','යෛ','යො','යෝ','යෞ',\n",
    "  'ර​​​​', 'රා', 'රැ', 'රෑ', 'රි', 'රී', 'රු', 'රූ', 'රෙ','රේ','රෛ','රො','රෝ','රෞ',\n",
    "  'ල​​​​', 'ලා', 'ලැ', 'ලෑ', 'ලි', 'ලී', 'ලු', 'ලූ', 'ලෙ','ලේ','ලෛ','ලො','ලෝ','ලෞ',\n",
    "  'ළ​​​​', 'ළා', 'ළැ', 'ළෑ', 'ළි', 'ළී', 'ළු', 'ළූ', 'ළෙ','ළේ','ළෛ','ළො','ළෝ','ළෞ',\n",
    "  'ව​​​​', 'වා', 'වැ', 'වෑ', 'වි', 'වී', 'වු', 'වූ', 'වෙ','වේ','වෛ','වො','වෝ','වෞ',\n",
    "    'හ​​​​', 'හා', 'හැ', 'හෑ', 'හි', 'හී', 'හු', 'හූ', 'හෙ','හේ','හෛ','හො','හෝ','හෞ',\n",
    " 'ශ​​​​', 'ශා', 'ශැ', 'ශෑ', 'ශි', 'ශී', 'ශු', 'ශූ', 'ශෙ','ශේ','ශෛ','ශො','ශෝ','ශෞ',\n",
    "   'ෂ​​​​', 'ෂා', 'ෂැ', 'ෂෑ', 'ෂි', 'ෂී', 'ෂු', 'ෂූ', 'ෂෙ','ෂේ','ෂෛ','ෂො','ෂෝ','ෂෞ',\n",
    "     'ස​​​​', 'සා', 'සැ', 'සෑ', 'සි', 'සී', 'සු', 'සූ', 'සෙ','සේ','සෛ','සො','සෝ','සෞ',\n",
    "  'ෆ​​​​', 'ෆා', 'ෆැ', 'ෆෑ', 'ෆී', 'ෆි', 'ෆු', 'ෆූ', 'ෆෙ','ෆේ','ෆෛ','ෆො','ෆෝ','ෆෞ',\n",
    "    'ක්‍ෂ​​​​', 'ක්‍ෂා', 'ක්‍ෂැ', 'ක්‍ෂෑ', 'ක්‍ෂි', 'ක්‍ෂී', 'ක්‍ෂු', 'ක්‍ෂූ', 'ක්‍ෂෙ','ක්‍ෂේ','ක්‍ෂෛ','ක්‍ෂො','ක්‍ෂෝ','ක්‍ෂෞ',\n",
    "      'ා​​​​', 'ැ', 'ෑ','ි','ී','ු','ූ','ෙ',  'ා​​​​', 'ැ', 'ෑ','ි','ී','ු','ූ','ෙ','ේ','ෛ','ො','ෝ','ෞ', 'ෘ','ෲ','ෟ','ෳ'\n",
    "\n",
    "\n",
    "for line in lines[: min(num_samples, len(lines) - 1)]:\n",
    "    for _ in range(5):\n",
    "        \n",
    "        input_text, target_text, _ = line.split(\" \")\n",
    "\n",
    "        # input_text = re.sub(r'[^a-zA-Z ]+', '', input_text)\n",
    "        target_text = \"\\t\" + input_text + \"\\n\"\n",
    "        for i in range(np.random.choice(np.arange(0, 2), p=[0.1, 0.9])):\n",
    "            input_text = input_text.replace(random.choice(list(input_text)),random.choice(token_list))\n",
    "\n",
    "        input_texts.append(input_text.lower())\n",
    "        target_texts.append(target_text)\n",
    "        for char in input_text.lower():\n",
    "            if char not in input_characters:\n",
    "                input_characters.add(char)\n",
    "        for char in target_text:\n",
    "            if char not in target_characters:\n",
    "                target_characters.add(char)\n",
    "              \n",
    "\n",
    "input_characters = sorted(list(input_characters))\n",
    "target_characters = sorted(list(target_characters))\n",
    "num_encoder_tokens = len(input_characters)\n",
    "num_decoder_tokens = len(target_characters)\n",
    "max_encoder_seq_length = max([len(txt) for txt in input_texts])\n",
    "max_decoder_seq_length = max([len(txt) for txt in target_texts])\n",
    "\n",
    "\n",
    "print(\"Number of samples:\", len(input_texts))\n",
    "print(\"Number of unique input tokens:\", num_encoder_tokens)\n",
    "print(\"Number of unique output tokens:\", num_decoder_tokens)\n",
    "print(\"Max sequence length for inputs:\", max_encoder_seq_length)\n",
    "print(\"Max sequence length for outputs:\", max_decoder_seq_length)\n",
    "\n",
    "input_token_index = dict([(char, i) for i, char in enumerate(input_characters)])\n",
    "target_token_index = dict([(char, i) for i, char in enumerate(target_characters)])\n",
    "\n",
    "encoder_input_data = np.zeros(\n",
    "    (len(input_texts), max_encoder_seq_length, num_encoder_tokens), dtype=\"float32\"\n",
    ")\n",
    "decoder_input_data = np.zeros(\n",
    "    (len(input_texts), max_decoder_seq_length, num_decoder_tokens), dtype=\"float32\"\n",
    ")\n",
    "decoder_target_data = np.zeros(\n",
    "    (len(input_texts), max_decoder_seq_length, num_decoder_tokens), dtype=\"float32\"\n",
    ")\n",
    "\n",
    "for i, (input_text, target_text) in enumerate(zip(input_texts, target_texts)):\n",
    "    for t, char in enumerate(input_text):\n",
    "        encoder_input_data[i, t, input_token_index[char]] = 1.0\n",
    "    # encoder_input_data[i, t + 1 :, input_token_index[\" \"]] = 1.0\n",
    "    for t, char in enumerate(target_text):\n",
    "        # decoder_target_data is ahead of decoder_input_data by one timestep\n",
    "        decoder_input_data[i, t, target_token_index[char]] = 1.0\n",
    "        if t > 0:\n",
    "            # decoder_target_data will be ahead by one timestep\n",
    "            # and will not include the start character.\n",
    "            decoder_target_data[i, t - 1, target_token_index[char]] = 1.0\n",
    "    # decoder_input_data[i, t + 1 :, target_token_index[\" \"]] = 1.0\n",
    "    # decoder_target_data[i, t:, target_token_index[\" \"]] = 1.0\n",
    "\n",
    "\n"
   ]
  },
  {
   "cell_type": "code",
   "execution_count": 52,
   "id": "890c5d69",
   "metadata": {},
   "outputs": [
    {
     "data": {
      "text/plain": [
       "{'ං': 0,\n",
       " 'අ': 1,\n",
       " 'ආ': 2,\n",
       " 'ඇ': 3,\n",
       " 'ඈ': 4,\n",
       " 'ඉ': 5,\n",
       " 'ඊ': 6,\n",
       " 'උ': 7,\n",
       " 'ඌ': 8,\n",
       " 'ඍ': 9,\n",
       " 'එ': 10,\n",
       " 'ඒ': 11,\n",
       " 'ඓ': 12,\n",
       " 'ඔ': 13,\n",
       " 'ඕ': 14,\n",
       " 'ඖ': 15,\n",
       " 'ක': 16,\n",
       " 'ඛ': 17,\n",
       " 'ග': 18,\n",
       " 'ඝ': 19,\n",
       " 'ඞ': 20,\n",
       " 'ඟ': 21,\n",
       " 'ච': 22,\n",
       " 'ඡ': 23,\n",
       " 'ජ': 24,\n",
       " 'ඣ': 25,\n",
       " 'ඤ': 26,\n",
       " 'ඥ': 27,\n",
       " 'ඦ': 28,\n",
       " 'ට': 29,\n",
       " 'ඨ': 30,\n",
       " 'ඩ': 31,\n",
       " 'ණ': 32,\n",
       " 'ත': 33,\n",
       " 'ථ': 34,\n",
       " 'ද': 35,\n",
       " 'ධ': 36,\n",
       " 'න': 37,\n",
       " 'ඳ': 38,\n",
       " 'ප': 39,\n",
       " 'බ': 40,\n",
       " 'භ': 41,\n",
       " 'ම': 42,\n",
       " 'ඹ': 43,\n",
       " 'ය': 44,\n",
       " 'ර': 45,\n",
       " 'ල': 46,\n",
       " 'ව': 47,\n",
       " 'ශ': 48,\n",
       " 'ෂ': 49,\n",
       " 'ස': 50,\n",
       " 'හ': 51,\n",
       " 'ළ': 52,\n",
       " '්': 53,\n",
       " 'ා': 54,\n",
       " 'ැ': 55,\n",
       " 'ෑ': 56,\n",
       " 'ි': 57,\n",
       " 'ී': 58,\n",
       " 'ු': 59,\n",
       " 'ූ': 60,\n",
       " 'ෘ': 61,\n",
       " 'ෙ': 62,\n",
       " 'ේ': 63,\n",
       " 'ෛ': 64,\n",
       " 'ො': 65,\n",
       " 'ෝ': 66,\n",
       " 'ෞ': 67,\n",
       " '\\u200d': 68}"
      ]
     },
     "execution_count": 52,
     "metadata": {},
     "output_type": "execute_result"
    }
   ],
   "source": [
    "input_token_index"
   ]
  },
  {
   "cell_type": "code",
   "execution_count": 53,
   "id": "562fbdcb",
   "metadata": {},
   "outputs": [],
   "source": [
    "# Define an input sequence and process it.\n",
    "encoder_inputs = keras.Input(shape=(None, num_encoder_tokens))\n",
    "encoder = keras.layers.LSTM(latent_dim, return_state=True, dropout=0.4)\n",
    "encoder_outputs, state_h, state_c = encoder(encoder_inputs)\n",
    "\n",
    "# We discard `encoder_outputs` and only keep the states.\n",
    "encoder_states = [state_h, state_c]\n",
    "\n",
    "# Set up the decoder, using `encoder_states` as initial state.\n",
    "decoder_inputs = keras.Input(shape=(None, num_decoder_tokens))\n",
    "\n",
    "# We set up our decoder to return full output sequences,\n",
    "# and to return internal states as well. We don't use the\n",
    "# return states in the training model, but we will use them in inference.\n",
    "decoder_lstm = keras.layers.LSTM(latent_dim, return_sequences=True, return_state=True, dropout=0.4)\n",
    "decoder_outputs, _, _ = decoder_lstm(decoder_inputs, initial_state=encoder_states)\n",
    "decoder_dense = keras.layers.Dense(num_decoder_tokens, activation=\"softmax\")\n",
    "decoder_outputs = decoder_dense(decoder_outputs)\n",
    "\n",
    "# Define the model that will turn\n",
    "# `encoder_input_data` & `decoder_input_data` into `decoder_target_data`\n",
    "model = keras.Model([encoder_inputs, decoder_inputs], decoder_outputs)"
   ]
  },
  {
   "cell_type": "code",
   "execution_count": 54,
   "id": "64674807",
   "metadata": {},
   "outputs": [],
   "source": [
    "model.compile(\n",
    "    optimizer=\"adam\", loss=\"categorical_crossentropy\", metrics=[\"accuracy\"]\n",
    ")"
   ]
  },
  {
   "cell_type": "code",
   "execution_count": 55,
   "id": "81639d07",
   "metadata": {},
   "outputs": [
    {
     "name": "stdout",
     "output_type": "stream",
     "text": [
      "Epoch 1/5\n",
      "75/75 [==============================] - 8s 57ms/step - loss: 1.2150 - accuracy: 0.0657 - val_loss: 1.2514 - val_accuracy: 0.0827\n",
      "Epoch 2/5\n",
      "75/75 [==============================] - 3s 45ms/step - loss: 1.1151 - accuracy: 0.0780 - val_loss: 1.2242 - val_accuracy: 0.0838\n",
      "Epoch 3/5\n",
      "75/75 [==============================] - 3s 41ms/step - loss: 1.1002 - accuracy: 0.0813 - val_loss: 1.2235 - val_accuracy: 0.0841\n",
      "Epoch 4/5\n",
      "75/75 [==============================] - 3s 40ms/step - loss: 1.0858 - accuracy: 0.0843 - val_loss: 1.2261 - val_accuracy: 0.0807\n",
      "Epoch 5/5\n",
      "75/75 [==============================] - 3s 41ms/step - loss: 1.0759 - accuracy: 0.0905 - val_loss: 1.1812 - val_accuracy: 0.0990\n"
     ]
    }
   ],
   "source": [
    "model.fit(\n",
    "    [encoder_input_data, decoder_input_data],\n",
    "    decoder_target_data,\n",
    "    batch_size=batch_size,\n",
    "    epochs=100,\n",
    "    validation_split=0.2,\n",
    "    callbacks=[\n",
    "        tf.keras.callbacks.LearningRateScheduler(\n",
    "            lambda epoch: 1e-3 * 10 ** (epoch / 30)\n",
    "        )\n",
    "    ]\n",
    ")\n",
    "# Save model\n",
    "model.save(\"auto.h5\")"
   ]
  },
  {
   "cell_type": "code",
   "execution_count": 56,
   "id": "953b2ee1",
   "metadata": {},
   "outputs": [
    {
     "name": "stdout",
     "output_type": "stream",
     "text": [
      "Model: \"model\"\n",
      "__________________________________________________________________________________________________\n",
      " Layer (type)                   Output Shape         Param #     Connected to                     \n",
      "==================================================================================================\n",
      " input_1 (InputLayer)           [(None, None, 69)]   0           []                               \n",
      "                                                                                                  \n",
      " input_2 (InputLayer)           [(None, None, 60)]   0           []                               \n",
      "                                                                                                  \n",
      " lstm (LSTM)                    [(None, 128),        101376      ['input_1[0][0]']                \n",
      "                                 (None, 128),                                                     \n",
      "                                 (None, 128)]                                                     \n",
      "                                                                                                  \n",
      " lstm_1 (LSTM)                  [(None, None, 128),  96768       ['input_2[0][0]',                \n",
      "                                 (None, 128),                     'lstm[0][1]',                   \n",
      "                                 (None, 128)]                     'lstm[0][2]']                   \n",
      "                                                                                                  \n",
      " dense (Dense)                  (None, None, 60)     7740        ['lstm_1[0][0]']                 \n",
      "                                                                                                  \n",
      "==================================================================================================\n",
      "Total params: 205,884\n",
      "Trainable params: 205,884\n",
      "Non-trainable params: 0\n",
      "__________________________________________________________________________________________________\n"
     ]
    }
   ],
   "source": [
    "model.summary()"
   ]
  },
  {
   "cell_type": "code",
   "execution_count": 57,
   "id": "ca3edd70",
   "metadata": {},
   "outputs": [
    {
     "name": "stdout",
     "output_type": "stream",
     "text": [
      "You must install pydot (`pip install pydot`) and install graphviz (see instructions at https://graphviz.gitlab.io/download/) for plot_model to work.\n"
     ]
    }
   ],
   "source": [
    "tf.keras.utils.plot_model(\n",
    "    model,\n",
    "    to_file=\"model.png\",\n",
    "    show_shapes=True,\n",
    "    show_dtype=False,\n",
    "    show_layer_names=True,\n",
    "    rankdir=\"TB\",\n",
    "    expand_nested=False,\n",
    "    dpi=96,\n",
    ")"
   ]
  },
  {
   "cell_type": "code",
   "execution_count": 58,
   "id": "d5873b44",
   "metadata": {},
   "outputs": [],
   "source": [
    "# Define sampling models\n",
    "# Restore the model and construct the encoder and decoder.\n",
    "#model = keras.models.load_model(\"s2s\")\n",
    "\n",
    "encoder_inputs = model.input[0]  # input_1\n",
    "encoder_outputs, state_h_enc, state_c_enc = model.layers[2].output  # lstm_1\n",
    "encoder_states = [state_h_enc, state_c_enc]\n",
    "encoder_model = keras.Model(encoder_inputs, encoder_states)\n",
    "\n",
    "decoder_inputs = model.input[1]  # input_2\n",
    "decoder_state_input_h = keras.Input(shape=(latent_dim,), name=\"input_3\")\n",
    "decoder_state_input_c = keras.Input(shape=(latent_dim,), name=\"input_5\")\n",
    "decoder_states_inputs = [decoder_state_input_h, decoder_state_input_c]\n",
    "decoder_lstm = model.layers[3]\n",
    "decoder_outputs, state_h_dec, state_c_dec = decoder_lstm(\n",
    "    decoder_inputs, initial_state=decoder_states_inputs\n",
    ")\n",
    "decoder_states = [state_h_dec, state_c_dec]\n",
    "decoder_dense = model.layers[4]\n",
    "decoder_outputs = decoder_dense(decoder_outputs)\n",
    "decoder_model = keras.Model(\n",
    "    [decoder_inputs] + decoder_states_inputs, [decoder_outputs] + decoder_states\n",
    ")\n",
    "\n",
    "# Reverse-lookup token index to decode sequences back to\n",
    "# something readable.\n",
    "reverse_input_char_index = dict((i, char) for char, i in input_token_index.items())\n",
    "reverse_target_char_index = dict((i, char) for char, i in target_token_index.items())\n",
    "\n",
    "\n",
    "def decode_sequence(input_seq):\n",
    "    # Encode the input as state vectors.\n",
    "    states_value = encoder_model.predict(input_seq)\n",
    "\n",
    "    # Generate empty target sequence of length 1.\n",
    "    target_seq = np.zeros((1, 1, num_decoder_tokens))\n",
    "    # Populate the first character of target sequence with the start character.\n",
    "    target_seq[0, 0, target_token_index[\"\\t\"]] = 1.0\n",
    "\n",
    "    # Sampling loop for a batch of sequences\n",
    "    # (to simplify, here we assume a batch of size 1).\n",
    "    stop_condition = False\n",
    "    decoded_sentence = \"\"\n",
    "    while not stop_condition:\n",
    "        output_tokens, h, c = decoder_model.predict([target_seq] + states_value)\n",
    "\n",
    "        # Sample a token\n",
    "        sampled_token_index = np.argmax(output_tokens[0, -1, :])\n",
    "        sampled_char = reverse_target_char_index[sampled_token_index]\n",
    "        decoded_sentence += sampled_char\n",
    "\n",
    "        # Exit condition: either hit max length\n",
    "        # or find stop character.\n",
    "        if sampled_char == \"\\n\" or len(decoded_sentence) > max_decoder_seq_length:\n",
    "            stop_condition = True\n",
    "\n",
    "        # Update the target sequence (of length 1).\n",
    "        target_seq = np.zeros((1, 1, num_decoder_tokens))\n",
    "        target_seq[0, 0, sampled_token_index] = 1.0\n",
    "\n",
    "        # Update states\n",
    "        states_value = [h, c]\n",
    "    return decoded_sentence"
   ]
  },
  {
   "cell_type": "code",
   "execution_count": 59,
   "id": "50fab051",
   "metadata": {},
   "outputs": [
    {
     "name": "stdout",
     "output_type": "stream",
     "text": [
      "1/1 [==============================] - 0s 426ms/step\n",
      "1/1 [==============================] - 1s 514ms/step\n",
      "1/1 [==============================] - 0s 25ms/step\n",
      "1/1 [==============================] - 0s 24ms/step\n",
      "කම\n",
      "\n"
     ]
    }
   ],
   "source": [
    "test_text = \"ළමයා\"\n",
    "\n",
    "encoder_test_data = np.zeros(\n",
    "    (1, max_encoder_seq_length, num_encoder_tokens), dtype=\"float32\")\n",
    "\n",
    "for t, char in enumerate(test_text):\n",
    "    encoder_test_data[0, t, input_token_index[char]] = 1.0\n",
    "\n",
    "decoded_sentence = decode_sequence(encoder_test_data)\n",
    "print(decoded_sentence)"
   ]
  },
  {
   "cell_type": "code",
   "execution_count": 60,
   "id": "6069fb43",
   "metadata": {},
   "outputs": [
    {
     "name": "stderr",
     "output_type": "stream",
     "text": [
      "  0%|          | 0/100 [00:00<?, ?it/s]\n"
     ]
    },
    {
     "ename": "ValueError",
     "evalue": "Unexpected result of `predict_function` (Empty batch_outputs). Please use `Model.compile(..., run_eagerly=True)`, or `tf.config.run_functions_eagerly(True)` for more information of where went wrong, or file a issue/bug to `tf.keras`.",
     "output_type": "error",
     "traceback": [
      "\u001b[1;31m---------------------------------------------------------------------------\u001b[0m",
      "\u001b[1;31mValueError\u001b[0m                                Traceback (most recent call last)",
      "\u001b[1;32md:\\Mithma\\SLIIT\\Y4\\model1\\seq2seq_sinhala\\model.ipynb Cell 16\u001b[0m in \u001b[0;36m<cell line: 3>\u001b[1;34m()\u001b[0m\n\u001b[0;32m      <a href='vscode-notebook-cell:/d%3A/Mithma/SLIIT/Y4/model1/seq2seq_sinhala/model.ipynb#X21sZmlsZQ%3D%3D?line=2'>3</a>\u001b[0m \u001b[39mfor\u001b[39;00m seq_index \u001b[39min\u001b[39;00m tqdm(\u001b[39mrange\u001b[39m(\u001b[39m57300\u001b[39m, \u001b[39m57400\u001b[39m)):\n\u001b[0;32m      <a href='vscode-notebook-cell:/d%3A/Mithma/SLIIT/Y4/model1/seq2seq_sinhala/model.ipynb#X21sZmlsZQ%3D%3D?line=3'>4</a>\u001b[0m     \u001b[39m# Take one sequence (part of the training set)\u001b[39;00m\n\u001b[0;32m      <a href='vscode-notebook-cell:/d%3A/Mithma/SLIIT/Y4/model1/seq2seq_sinhala/model.ipynb#X21sZmlsZQ%3D%3D?line=4'>5</a>\u001b[0m     \u001b[39m# for trying out decoding.\u001b[39;00m\n\u001b[0;32m      <a href='vscode-notebook-cell:/d%3A/Mithma/SLIIT/Y4/model1/seq2seq_sinhala/model.ipynb#X21sZmlsZQ%3D%3D?line=5'>6</a>\u001b[0m     input_seq \u001b[39m=\u001b[39m encoder_input_data[seq_index : seq_index \u001b[39m+\u001b[39m \u001b[39m1\u001b[39m]\n\u001b[1;32m----> <a href='vscode-notebook-cell:/d%3A/Mithma/SLIIT/Y4/model1/seq2seq_sinhala/model.ipynb#X21sZmlsZQ%3D%3D?line=6'>7</a>\u001b[0m     decoded_sentence \u001b[39m=\u001b[39m decode_sequence(input_seq)\n\u001b[0;32m      <a href='vscode-notebook-cell:/d%3A/Mithma/SLIIT/Y4/model1/seq2seq_sinhala/model.ipynb#X21sZmlsZQ%3D%3D?line=7'>8</a>\u001b[0m     out\u001b[39m.\u001b[39mloc[\u001b[39mlen\u001b[39m(out\u001b[39m.\u001b[39mindex)] \u001b[39m=\u001b[39m [input_texts[seq_index], decoded_sentence, target_texts[seq_index]]\n",
      "\u001b[1;32md:\\Mithma\\SLIIT\\Y4\\model1\\seq2seq_sinhala\\model.ipynb Cell 16\u001b[0m in \u001b[0;36mdecode_sequence\u001b[1;34m(input_seq)\u001b[0m\n\u001b[0;32m     <a href='vscode-notebook-cell:/d%3A/Mithma/SLIIT/Y4/model1/seq2seq_sinhala/model.ipynb#X21sZmlsZQ%3D%3D?line=30'>31</a>\u001b[0m \u001b[39mdef\u001b[39;00m \u001b[39mdecode_sequence\u001b[39m(input_seq):\n\u001b[0;32m     <a href='vscode-notebook-cell:/d%3A/Mithma/SLIIT/Y4/model1/seq2seq_sinhala/model.ipynb#X21sZmlsZQ%3D%3D?line=31'>32</a>\u001b[0m     \u001b[39m# Encode the input as state vectors.\u001b[39;00m\n\u001b[1;32m---> <a href='vscode-notebook-cell:/d%3A/Mithma/SLIIT/Y4/model1/seq2seq_sinhala/model.ipynb#X21sZmlsZQ%3D%3D?line=32'>33</a>\u001b[0m     states_value \u001b[39m=\u001b[39m encoder_model\u001b[39m.\u001b[39;49mpredict(input_seq)\n\u001b[0;32m     <a href='vscode-notebook-cell:/d%3A/Mithma/SLIIT/Y4/model1/seq2seq_sinhala/model.ipynb#X21sZmlsZQ%3D%3D?line=34'>35</a>\u001b[0m     \u001b[39m# Generate empty target sequence of length 1.\u001b[39;00m\n\u001b[0;32m     <a href='vscode-notebook-cell:/d%3A/Mithma/SLIIT/Y4/model1/seq2seq_sinhala/model.ipynb#X21sZmlsZQ%3D%3D?line=35'>36</a>\u001b[0m     target_seq \u001b[39m=\u001b[39m np\u001b[39m.\u001b[39mzeros((\u001b[39m1\u001b[39m, \u001b[39m1\u001b[39m, num_decoder_tokens))\n",
      "File \u001b[1;32mc:\\Users\\USER\\AppData\\Local\\Programs\\Python\\Python310\\lib\\site-packages\\keras\\utils\\traceback_utils.py:70\u001b[0m, in \u001b[0;36mfilter_traceback.<locals>.error_handler\u001b[1;34m(*args, **kwargs)\u001b[0m\n\u001b[0;32m     67\u001b[0m     filtered_tb \u001b[39m=\u001b[39m _process_traceback_frames(e\u001b[39m.\u001b[39m__traceback__)\n\u001b[0;32m     68\u001b[0m     \u001b[39m# To get the full stack trace, call:\u001b[39;00m\n\u001b[0;32m     69\u001b[0m     \u001b[39m# `tf.debugging.disable_traceback_filtering()`\u001b[39;00m\n\u001b[1;32m---> 70\u001b[0m     \u001b[39mraise\u001b[39;00m e\u001b[39m.\u001b[39mwith_traceback(filtered_tb) \u001b[39mfrom\u001b[39;00m \u001b[39mNone\u001b[39m\n\u001b[0;32m     71\u001b[0m \u001b[39mfinally\u001b[39;00m:\n\u001b[0;32m     72\u001b[0m     \u001b[39mdel\u001b[39;00m filtered_tb\n",
      "File \u001b[1;32mc:\\Users\\USER\\AppData\\Local\\Programs\\Python\\Python310\\lib\\site-packages\\keras\\engine\\training.py:2278\u001b[0m, in \u001b[0;36mModel.predict\u001b[1;34m(self, x, batch_size, verbose, steps, callbacks, max_queue_size, workers, use_multiprocessing)\u001b[0m\n\u001b[0;32m   2274\u001b[0m                 callbacks\u001b[39m.\u001b[39mon_predict_batch_end(\n\u001b[0;32m   2275\u001b[0m                     end_step, {\u001b[39m\"\u001b[39m\u001b[39moutputs\u001b[39m\u001b[39m\"\u001b[39m: batch_outputs}\n\u001b[0;32m   2276\u001b[0m                 )\n\u001b[0;32m   2277\u001b[0m     \u001b[39mif\u001b[39;00m batch_outputs \u001b[39mis\u001b[39;00m \u001b[39mNone\u001b[39;00m:\n\u001b[1;32m-> 2278\u001b[0m         \u001b[39mraise\u001b[39;00m \u001b[39mValueError\u001b[39;00m(\n\u001b[0;32m   2279\u001b[0m             \u001b[39m\"\u001b[39m\u001b[39mUnexpected result of `predict_function` \u001b[39m\u001b[39m\"\u001b[39m\n\u001b[0;32m   2280\u001b[0m             \u001b[39m\"\u001b[39m\u001b[39m(Empty batch_outputs). Please use \u001b[39m\u001b[39m\"\u001b[39m\n\u001b[0;32m   2281\u001b[0m             \u001b[39m\"\u001b[39m\u001b[39m`Model.compile(..., run_eagerly=True)`, or \u001b[39m\u001b[39m\"\u001b[39m\n\u001b[0;32m   2282\u001b[0m             \u001b[39m\"\u001b[39m\u001b[39m`tf.config.run_functions_eagerly(True)` for more \u001b[39m\u001b[39m\"\u001b[39m\n\u001b[0;32m   2283\u001b[0m             \u001b[39m\"\u001b[39m\u001b[39minformation of where went wrong, or file a \u001b[39m\u001b[39m\"\u001b[39m\n\u001b[0;32m   2284\u001b[0m             \u001b[39m\"\u001b[39m\u001b[39missue/bug to `tf.keras`.\u001b[39m\u001b[39m\"\u001b[39m\n\u001b[0;32m   2285\u001b[0m         )\n\u001b[0;32m   2286\u001b[0m     callbacks\u001b[39m.\u001b[39mon_predict_end()\n\u001b[0;32m   2287\u001b[0m all_outputs \u001b[39m=\u001b[39m tf\u001b[39m.\u001b[39m__internal__\u001b[39m.\u001b[39mnest\u001b[39m.\u001b[39mmap_structure_up_to(\n\u001b[0;32m   2288\u001b[0m     batch_outputs, potentially_ragged_concat, outputs\n\u001b[0;32m   2289\u001b[0m )\n",
      "\u001b[1;31mValueError\u001b[0m: Unexpected result of `predict_function` (Empty batch_outputs). Please use `Model.compile(..., run_eagerly=True)`, or `tf.config.run_functions_eagerly(True)` for more information of where went wrong, or file a issue/bug to `tf.keras`."
     ]
    }
   ],
   "source": [
    "out = pd.DataFrame(columns = [\"input\", \"decoded\", \"target\"])\n",
    "tt = 0\n",
    "for seq_index in tqdm(range(57300, 57400)):\n",
    "    # Take one sequence (part of the training set)\n",
    "    # for trying out decoding.\n",
    "    input_seq = encoder_input_data[seq_index : seq_index + 1]\n",
    "    decoded_sentence = decode_sequence(input_seq)\n",
    "    out.loc[len(out.index)] = [input_texts[seq_index], decoded_sentence, target_texts[seq_index]]"
   ]
  },
  {
   "cell_type": "code",
   "execution_count": null,
   "id": "3449d7ef",
   "metadata": {},
   "outputs": [],
   "source": [
    "out.tail(20)\n",
    "np.shape(input_seq)\n",
    "tt"
   ]
  },
  {
   "cell_type": "code",
   "execution_count": null,
   "id": "5e23c78a",
   "metadata": {},
   "outputs": [],
   "source": [
    "f = open('var.pkl','wb')\n",
    "jj = {\"input_token_index\":input_token_index, \"target_token_index\":target_token_index, \"num_decoder_tokens\": num_decoder_tokens, \"max_encoder_seq_length\":max_encoder_seq_length, \"num_encoder_tokens\": num_encoder_tokens}\n",
    "pickle.dump(jj, f)\n",
    "f.close()"
   ]
  },
  {
   "cell_type": "code",
   "execution_count": null,
   "id": "997d4a57",
   "metadata": {},
   "outputs": [],
   "source": []
  }
 ],
 "metadata": {
  "kernelspec": {
   "display_name": "Python 3 (ipykernel)",
   "language": "python",
   "name": "python3"
  },
  "language_info": {
   "codemirror_mode": {
    "name": "ipython",
    "version": 3
   },
   "file_extension": ".py",
   "mimetype": "text/x-python",
   "name": "python",
   "nbconvert_exporter": "python",
   "pygments_lexer": "ipython3",
   "version": "3.10.3"
  },
  "vscode": {
   "interpreter": {
    "hash": "df95319d8ce4e1d89f5365ae10992bc1f65da593082b1d264e8f529830ec2f02"
   }
  }
 },
 "nbformat": 4,
 "nbformat_minor": 5
}
